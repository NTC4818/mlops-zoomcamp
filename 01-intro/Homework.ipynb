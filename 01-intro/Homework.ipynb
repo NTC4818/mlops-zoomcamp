{
 "cells": [
  {
   "cell_type": "code",
   "execution_count": 2,
   "id": "c85e5a83",
   "metadata": {},
   "outputs": [],
   "source": [
    "import pandas as pd\n",
    "import polars as pl\n",
    "from sklearn.feature_extraction import DictVectorizer\n",
    "from sklearn.linear_model import LinearRegression\n",
    "from sklearn.metrics import mean_squared_error\n",
    "import numpy as np"
   ]
  },
  {
   "cell_type": "code",
   "execution_count": null,
   "id": "b951833e",
   "metadata": {},
   "outputs": [],
   "source": [
    "!pip install sklearn"
   ]
  },
  {
   "cell_type": "code",
   "execution_count": 2,
   "id": "fc090bae",
   "metadata": {},
   "outputs": [],
   "source": [
    "#!pip install pyarrow"
   ]
  },
  {
   "cell_type": "code",
   "execution_count": 2,
   "id": "b0e97bc5",
   "metadata": {},
   "outputs": [],
   "source": [
    "jan_2023 = pl.read_parquet('https://d37ci6vzurychx.cloudfront.net/trip-data/green_tripdata_2023-01.parquet')\n",
    "feb_2023 = pl.read_parquet('https://d37ci6vzurychx.cloudfront.net/trip-data/green_tripdata_2023-02.parquet')"
   ]
  },
  {
   "cell_type": "code",
   "execution_count": 3,
   "id": "5ccc4446",
   "metadata": {},
   "outputs": [
    {
     "data": {
      "text/html": [
       "<div><style>\n",
       ".dataframe > thead > tr,\n",
       ".dataframe > tbody > tr {\n",
       "  text-align: right;\n",
       "  white-space: pre-wrap;\n",
       "}\n",
       "</style>\n",
       "<small>shape: (5, 20)</small><table border=\"1\" class=\"dataframe\"><thead><tr><th>VendorID</th><th>lpep_pickup_datetime</th><th>lpep_dropoff_datetime</th><th>store_and_fwd_flag</th><th>RatecodeID</th><th>PULocationID</th><th>DOLocationID</th><th>passenger_count</th><th>trip_distance</th><th>fare_amount</th><th>extra</th><th>mta_tax</th><th>tip_amount</th><th>tolls_amount</th><th>ehail_fee</th><th>improvement_surcharge</th><th>total_amount</th><th>payment_type</th><th>trip_type</th><th>congestion_surcharge</th></tr><tr><td>i64</td><td>datetime[ns]</td><td>datetime[ns]</td><td>str</td><td>f64</td><td>i64</td><td>i64</td><td>f64</td><td>f64</td><td>f64</td><td>f64</td><td>f64</td><td>f64</td><td>f64</td><td>null</td><td>f64</td><td>f64</td><td>f64</td><td>f64</td><td>f64</td></tr></thead><tbody><tr><td>2</td><td>2023-01-01 00:26:10</td><td>2023-01-01 00:37:11</td><td>&quot;N&quot;</td><td>1.0</td><td>166</td><td>143</td><td>1.0</td><td>2.58</td><td>14.9</td><td>1.0</td><td>0.5</td><td>4.03</td><td>0.0</td><td>null</td><td>1.0</td><td>24.18</td><td>1.0</td><td>1.0</td><td>2.75</td></tr><tr><td>2</td><td>2023-01-01 00:51:03</td><td>2023-01-01 00:57:49</td><td>&quot;N&quot;</td><td>1.0</td><td>24</td><td>43</td><td>1.0</td><td>1.81</td><td>10.7</td><td>1.0</td><td>0.5</td><td>2.64</td><td>0.0</td><td>null</td><td>1.0</td><td>15.84</td><td>1.0</td><td>1.0</td><td>0.0</td></tr><tr><td>2</td><td>2023-01-01 00:35:12</td><td>2023-01-01 00:41:32</td><td>&quot;N&quot;</td><td>1.0</td><td>223</td><td>179</td><td>1.0</td><td>0.0</td><td>7.2</td><td>1.0</td><td>0.5</td><td>1.94</td><td>0.0</td><td>null</td><td>1.0</td><td>11.64</td><td>1.0</td><td>1.0</td><td>0.0</td></tr><tr><td>1</td><td>2023-01-01 00:13:14</td><td>2023-01-01 00:19:03</td><td>&quot;N&quot;</td><td>1.0</td><td>41</td><td>238</td><td>1.0</td><td>1.3</td><td>6.5</td><td>0.5</td><td>1.5</td><td>1.7</td><td>0.0</td><td>null</td><td>1.0</td><td>10.2</td><td>1.0</td><td>1.0</td><td>0.0</td></tr><tr><td>1</td><td>2023-01-01 00:33:04</td><td>2023-01-01 00:39:02</td><td>&quot;N&quot;</td><td>1.0</td><td>41</td><td>74</td><td>1.0</td><td>1.1</td><td>6.0</td><td>0.5</td><td>1.5</td><td>0.0</td><td>0.0</td><td>null</td><td>1.0</td><td>8.0</td><td>1.0</td><td>1.0</td><td>0.0</td></tr></tbody></table></div>"
      ],
      "text/plain": [
       "shape: (5, 20)\n",
       "┌──────────┬───────────┬───────────┬───────────┬───┬───────────┬───────────┬───────────┬───────────┐\n",
       "│ VendorID ┆ lpep_pick ┆ lpep_drop ┆ store_and ┆ … ┆ total_amo ┆ payment_t ┆ trip_type ┆ congestio │\n",
       "│ ---      ┆ up_dateti ┆ off_datet ┆ _fwd_flag ┆   ┆ unt       ┆ ype       ┆ ---       ┆ n_surchar │\n",
       "│ i64      ┆ me        ┆ ime       ┆ ---       ┆   ┆ ---       ┆ ---       ┆ f64       ┆ ge        │\n",
       "│          ┆ ---       ┆ ---       ┆ str       ┆   ┆ f64       ┆ f64       ┆           ┆ ---       │\n",
       "│          ┆ datetime[ ┆ datetime[ ┆           ┆   ┆           ┆           ┆           ┆ f64       │\n",
       "│          ┆ ns]       ┆ ns]       ┆           ┆   ┆           ┆           ┆           ┆           │\n",
       "╞══════════╪═══════════╪═══════════╪═══════════╪═══╪═══════════╪═══════════╪═══════════╪═══════════╡\n",
       "│ 2        ┆ 2023-01-0 ┆ 2023-01-0 ┆ N         ┆ … ┆ 24.18     ┆ 1.0       ┆ 1.0       ┆ 2.75      │\n",
       "│          ┆ 1         ┆ 1         ┆           ┆   ┆           ┆           ┆           ┆           │\n",
       "│          ┆ 00:26:10  ┆ 00:37:11  ┆           ┆   ┆           ┆           ┆           ┆           │\n",
       "│ 2        ┆ 2023-01-0 ┆ 2023-01-0 ┆ N         ┆ … ┆ 15.84     ┆ 1.0       ┆ 1.0       ┆ 0.0       │\n",
       "│          ┆ 1         ┆ 1         ┆           ┆   ┆           ┆           ┆           ┆           │\n",
       "│          ┆ 00:51:03  ┆ 00:57:49  ┆           ┆   ┆           ┆           ┆           ┆           │\n",
       "│ 2        ┆ 2023-01-0 ┆ 2023-01-0 ┆ N         ┆ … ┆ 11.64     ┆ 1.0       ┆ 1.0       ┆ 0.0       │\n",
       "│          ┆ 1         ┆ 1         ┆           ┆   ┆           ┆           ┆           ┆           │\n",
       "│          ┆ 00:35:12  ┆ 00:41:32  ┆           ┆   ┆           ┆           ┆           ┆           │\n",
       "│ 1        ┆ 2023-01-0 ┆ 2023-01-0 ┆ N         ┆ … ┆ 10.2      ┆ 1.0       ┆ 1.0       ┆ 0.0       │\n",
       "│          ┆ 1         ┆ 1         ┆           ┆   ┆           ┆           ┆           ┆           │\n",
       "│          ┆ 00:13:14  ┆ 00:19:03  ┆           ┆   ┆           ┆           ┆           ┆           │\n",
       "│ 1        ┆ 2023-01-0 ┆ 2023-01-0 ┆ N         ┆ … ┆ 8.0       ┆ 1.0       ┆ 1.0       ┆ 0.0       │\n",
       "│          ┆ 1         ┆ 1         ┆           ┆   ┆           ┆           ┆           ┆           │\n",
       "│          ┆ 00:33:04  ┆ 00:39:02  ┆           ┆   ┆           ┆           ┆           ┆           │\n",
       "└──────────┴───────────┴───────────┴───────────┴───┴───────────┴───────────┴───────────┴───────────┘"
      ]
     },
     "execution_count": 3,
     "metadata": {},
     "output_type": "execute_result"
    }
   ],
   "source": [
    "jan_2023.head()"
   ]
  },
  {
   "cell_type": "code",
   "execution_count": 5,
   "id": "3c2e1c3f",
   "metadata": {},
   "outputs": [],
   "source": [
    "#Q1 There are 20 columns in January data and February data"
   ]
  },
  {
   "cell_type": "code",
   "execution_count": 4,
   "id": "6206fc40",
   "metadata": {},
   "outputs": [
    {
     "data": {
      "text/html": [
       "<div><style>\n",
       ".dataframe > thead > tr,\n",
       ".dataframe > tbody > tr {\n",
       "  text-align: right;\n",
       "  white-space: pre-wrap;\n",
       "}\n",
       "</style>\n",
       "<small>shape: (5, 20)</small><table border=\"1\" class=\"dataframe\"><thead><tr><th>VendorID</th><th>lpep_pickup_datetime</th><th>lpep_dropoff_datetime</th><th>store_and_fwd_flag</th><th>RatecodeID</th><th>PULocationID</th><th>DOLocationID</th><th>passenger_count</th><th>trip_distance</th><th>fare_amount</th><th>extra</th><th>mta_tax</th><th>tip_amount</th><th>tolls_amount</th><th>ehail_fee</th><th>improvement_surcharge</th><th>total_amount</th><th>payment_type</th><th>trip_type</th><th>congestion_surcharge</th></tr><tr><td>i32</td><td>datetime[ns]</td><td>datetime[ns]</td><td>str</td><td>i64</td><td>i32</td><td>i32</td><td>i64</td><td>f64</td><td>f64</td><td>f64</td><td>f64</td><td>f64</td><td>f64</td><td>f64</td><td>f64</td><td>f64</td><td>i64</td><td>i64</td><td>f64</td></tr></thead><tbody><tr><td>1</td><td>2023-02-01 00:46:22</td><td>2023-02-01 01:05:57</td><td>&quot;N&quot;</td><td>1</td><td>74</td><td>265</td><td>1</td><td>10.8</td><td>42.9</td><td>1.0</td><td>1.5</td><td>0.0</td><td>0.0</td><td>null</td><td>1.0</td><td>45.4</td><td>2</td><td>1</td><td>0.0</td></tr><tr><td>2</td><td>2023-02-01 00:05:09</td><td>2023-02-01 00:22:42</td><td>&quot;N&quot;</td><td>1</td><td>216</td><td>196</td><td>1</td><td>4.76</td><td>23.3</td><td>1.0</td><td>0.5</td><td>0.0</td><td>0.0</td><td>null</td><td>1.0</td><td>25.8</td><td>2</td><td>1</td><td>0.0</td></tr><tr><td>2</td><td>2023-02-01 00:03:47</td><td>2023-02-01 00:27:30</td><td>&quot;N&quot;</td><td>1</td><td>7</td><td>114</td><td>1</td><td>6.32</td><td>30.3</td><td>1.0</td><td>0.5</td><td>8.89</td><td>0.0</td><td>null</td><td>1.0</td><td>44.44</td><td>1</td><td>1</td><td>2.75</td></tr><tr><td>2</td><td>2023-01-31 23:30:56</td><td>2023-01-31 23:51:40</td><td>&quot;N&quot;</td><td>1</td><td>74</td><td>239</td><td>1</td><td>3.5</td><td>16.3</td><td>1.0</td><td>0.5</td><td>0.0</td><td>0.0</td><td>null</td><td>1.0</td><td>21.55</td><td>2</td><td>1</td><td>2.75</td></tr><tr><td>2</td><td>2023-02-01 00:15:05</td><td>2023-02-01 00:26:02</td><td>&quot;N&quot;</td><td>1</td><td>82</td><td>223</td><td>1</td><td>3.14</td><td>17.0</td><td>1.0</td><td>0.5</td><td>0.0</td><td>0.0</td><td>null</td><td>1.0</td><td>19.5</td><td>2</td><td>1</td><td>0.0</td></tr></tbody></table></div>"
      ],
      "text/plain": [
       "shape: (5, 20)\n",
       "┌──────────┬───────────┬───────────┬───────────┬───┬───────────┬───────────┬───────────┬───────────┐\n",
       "│ VendorID ┆ lpep_pick ┆ lpep_drop ┆ store_and ┆ … ┆ total_amo ┆ payment_t ┆ trip_type ┆ congestio │\n",
       "│ ---      ┆ up_dateti ┆ off_datet ┆ _fwd_flag ┆   ┆ unt       ┆ ype       ┆ ---       ┆ n_surchar │\n",
       "│ i32      ┆ me        ┆ ime       ┆ ---       ┆   ┆ ---       ┆ ---       ┆ i64       ┆ ge        │\n",
       "│          ┆ ---       ┆ ---       ┆ str       ┆   ┆ f64       ┆ i64       ┆           ┆ ---       │\n",
       "│          ┆ datetime[ ┆ datetime[ ┆           ┆   ┆           ┆           ┆           ┆ f64       │\n",
       "│          ┆ ns]       ┆ ns]       ┆           ┆   ┆           ┆           ┆           ┆           │\n",
       "╞══════════╪═══════════╪═══════════╪═══════════╪═══╪═══════════╪═══════════╪═══════════╪═══════════╡\n",
       "│ 1        ┆ 2023-02-0 ┆ 2023-02-0 ┆ N         ┆ … ┆ 45.4      ┆ 2         ┆ 1         ┆ 0.0       │\n",
       "│          ┆ 1         ┆ 1         ┆           ┆   ┆           ┆           ┆           ┆           │\n",
       "│          ┆ 00:46:22  ┆ 01:05:57  ┆           ┆   ┆           ┆           ┆           ┆           │\n",
       "│ 2        ┆ 2023-02-0 ┆ 2023-02-0 ┆ N         ┆ … ┆ 25.8      ┆ 2         ┆ 1         ┆ 0.0       │\n",
       "│          ┆ 1         ┆ 1         ┆           ┆   ┆           ┆           ┆           ┆           │\n",
       "│          ┆ 00:05:09  ┆ 00:22:42  ┆           ┆   ┆           ┆           ┆           ┆           │\n",
       "│ 2        ┆ 2023-02-0 ┆ 2023-02-0 ┆ N         ┆ … ┆ 44.44     ┆ 1         ┆ 1         ┆ 2.75      │\n",
       "│          ┆ 1         ┆ 1         ┆           ┆   ┆           ┆           ┆           ┆           │\n",
       "│          ┆ 00:03:47  ┆ 00:27:30  ┆           ┆   ┆           ┆           ┆           ┆           │\n",
       "│ 2        ┆ 2023-01-3 ┆ 2023-01-3 ┆ N         ┆ … ┆ 21.55     ┆ 2         ┆ 1         ┆ 2.75      │\n",
       "│          ┆ 1         ┆ 1         ┆           ┆   ┆           ┆           ┆           ┆           │\n",
       "│          ┆ 23:30:56  ┆ 23:51:40  ┆           ┆   ┆           ┆           ┆           ┆           │\n",
       "│ 2        ┆ 2023-02-0 ┆ 2023-02-0 ┆ N         ┆ … ┆ 19.5      ┆ 2         ┆ 1         ┆ 0.0       │\n",
       "│          ┆ 1         ┆ 1         ┆           ┆   ┆           ┆           ┆           ┆           │\n",
       "│          ┆ 00:15:05  ┆ 00:26:02  ┆           ┆   ┆           ┆           ┆           ┆           │\n",
       "└──────────┴───────────┴───────────┴───────────┴───┴───────────┴───────────┴───────────┴───────────┘"
      ]
     },
     "execution_count": 4,
     "metadata": {},
     "output_type": "execute_result"
    }
   ],
   "source": [
    "feb_2023.head()"
   ]
  },
  {
   "cell_type": "code",
   "execution_count": null,
   "id": "c287b6fa",
   "metadata": {},
   "outputs": [],
   "source": [
    "\n",
    "jan_2023 = jan_2023.with_columns(\n",
    "(pl.col('lpep_dropoff_datetime')-pl.col('lpep_pickup_datetime')).alias('duration'))"
   ]
  },
  {
   "cell_type": "code",
   "execution_count": 6,
   "id": "38401586",
   "metadata": {},
   "outputs": [
    {
     "data": {
      "text/html": [
       "<div><style>\n",
       ".dataframe > thead > tr,\n",
       ".dataframe > tbody > tr {\n",
       "  text-align: right;\n",
       "  white-space: pre-wrap;\n",
       "}\n",
       "</style>\n",
       "<small>shape: (1, 1)</small><table border=\"1\" class=\"dataframe\"><thead><tr><th>duration</th></tr><tr><td>duration[ns]</td></tr></thead><tbody><tr><td>1h 14m 55s 537873522ns</td></tr></tbody></table></div>"
      ],
      "text/plain": [
       "shape: (1, 1)\n",
       "┌────────────────────────┐\n",
       "│ duration               │\n",
       "│ ---                    │\n",
       "│ duration[ns]           │\n",
       "╞════════════════════════╡\n",
       "│ 1h 14m 55s 537873522ns │\n",
       "└────────────────────────┘"
      ]
     },
     "execution_count": 6,
     "metadata": {},
     "output_type": "execute_result"
    }
   ],
   "source": [
    "jan_2023.select(pl.std('duration'))"
   ]
  },
  {
   "cell_type": "code",
   "execution_count": 7,
   "id": "81ec1877",
   "metadata": {},
   "outputs": [
    {
     "data": {
      "text/html": [
       "<div><style>\n",
       ".dataframe > thead > tr,\n",
       ".dataframe > tbody > tr {\n",
       "  text-align: right;\n",
       "  white-space: pre-wrap;\n",
       "}\n",
       "</style>\n",
       "<small>shape: (5, 21)</small><table border=\"1\" class=\"dataframe\"><thead><tr><th>VendorID</th><th>lpep_pickup_datetime</th><th>lpep_dropoff_datetime</th><th>store_and_fwd_flag</th><th>RatecodeID</th><th>PULocationID</th><th>DOLocationID</th><th>passenger_count</th><th>trip_distance</th><th>fare_amount</th><th>extra</th><th>mta_tax</th><th>tip_amount</th><th>tolls_amount</th><th>ehail_fee</th><th>improvement_surcharge</th><th>total_amount</th><th>payment_type</th><th>trip_type</th><th>congestion_surcharge</th><th>duration</th></tr><tr><td>i64</td><td>datetime[ns]</td><td>datetime[ns]</td><td>str</td><td>f64</td><td>i64</td><td>i64</td><td>f64</td><td>f64</td><td>f64</td><td>f64</td><td>f64</td><td>f64</td><td>f64</td><td>null</td><td>f64</td><td>f64</td><td>f64</td><td>f64</td><td>f64</td><td>duration[ns]</td></tr></thead><tbody><tr><td>2</td><td>2023-01-01 00:26:10</td><td>2023-01-01 00:37:11</td><td>&quot;N&quot;</td><td>1.0</td><td>166</td><td>143</td><td>1.0</td><td>2.58</td><td>14.9</td><td>1.0</td><td>0.5</td><td>4.03</td><td>0.0</td><td>null</td><td>1.0</td><td>24.18</td><td>1.0</td><td>1.0</td><td>2.75</td><td>11m 1s</td></tr><tr><td>2</td><td>2023-01-01 00:51:03</td><td>2023-01-01 00:57:49</td><td>&quot;N&quot;</td><td>1.0</td><td>24</td><td>43</td><td>1.0</td><td>1.81</td><td>10.7</td><td>1.0</td><td>0.5</td><td>2.64</td><td>0.0</td><td>null</td><td>1.0</td><td>15.84</td><td>1.0</td><td>1.0</td><td>0.0</td><td>6m 46s</td></tr><tr><td>2</td><td>2023-01-01 00:35:12</td><td>2023-01-01 00:41:32</td><td>&quot;N&quot;</td><td>1.0</td><td>223</td><td>179</td><td>1.0</td><td>0.0</td><td>7.2</td><td>1.0</td><td>0.5</td><td>1.94</td><td>0.0</td><td>null</td><td>1.0</td><td>11.64</td><td>1.0</td><td>1.0</td><td>0.0</td><td>6m 20s</td></tr><tr><td>1</td><td>2023-01-01 00:13:14</td><td>2023-01-01 00:19:03</td><td>&quot;N&quot;</td><td>1.0</td><td>41</td><td>238</td><td>1.0</td><td>1.3</td><td>6.5</td><td>0.5</td><td>1.5</td><td>1.7</td><td>0.0</td><td>null</td><td>1.0</td><td>10.2</td><td>1.0</td><td>1.0</td><td>0.0</td><td>5m 49s</td></tr><tr><td>1</td><td>2023-01-01 00:33:04</td><td>2023-01-01 00:39:02</td><td>&quot;N&quot;</td><td>1.0</td><td>41</td><td>74</td><td>1.0</td><td>1.1</td><td>6.0</td><td>0.5</td><td>1.5</td><td>0.0</td><td>0.0</td><td>null</td><td>1.0</td><td>8.0</td><td>1.0</td><td>1.0</td><td>0.0</td><td>5m 58s</td></tr></tbody></table></div>"
      ],
      "text/plain": [
       "shape: (5, 21)\n",
       "┌──────────┬───────────┬───────────┬───────────┬───┬───────────┬───────────┬───────────┬───────────┐\n",
       "│ VendorID ┆ lpep_pick ┆ lpep_drop ┆ store_and ┆ … ┆ payment_t ┆ trip_type ┆ congestio ┆ duration  │\n",
       "│ ---      ┆ up_dateti ┆ off_datet ┆ _fwd_flag ┆   ┆ ype       ┆ ---       ┆ n_surchar ┆ ---       │\n",
       "│ i64      ┆ me        ┆ ime       ┆ ---       ┆   ┆ ---       ┆ f64       ┆ ge        ┆ duration[ │\n",
       "│          ┆ ---       ┆ ---       ┆ str       ┆   ┆ f64       ┆           ┆ ---       ┆ ns]       │\n",
       "│          ┆ datetime[ ┆ datetime[ ┆           ┆   ┆           ┆           ┆ f64       ┆           │\n",
       "│          ┆ ns]       ┆ ns]       ┆           ┆   ┆           ┆           ┆           ┆           │\n",
       "╞══════════╪═══════════╪═══════════╪═══════════╪═══╪═══════════╪═══════════╪═══════════╪═══════════╡\n",
       "│ 2        ┆ 2023-01-0 ┆ 2023-01-0 ┆ N         ┆ … ┆ 1.0       ┆ 1.0       ┆ 2.75      ┆ 11m 1s    │\n",
       "│          ┆ 1         ┆ 1         ┆           ┆   ┆           ┆           ┆           ┆           │\n",
       "│          ┆ 00:26:10  ┆ 00:37:11  ┆           ┆   ┆           ┆           ┆           ┆           │\n",
       "│ 2        ┆ 2023-01-0 ┆ 2023-01-0 ┆ N         ┆ … ┆ 1.0       ┆ 1.0       ┆ 0.0       ┆ 6m 46s    │\n",
       "│          ┆ 1         ┆ 1         ┆           ┆   ┆           ┆           ┆           ┆           │\n",
       "│          ┆ 00:51:03  ┆ 00:57:49  ┆           ┆   ┆           ┆           ┆           ┆           │\n",
       "│ 2        ┆ 2023-01-0 ┆ 2023-01-0 ┆ N         ┆ … ┆ 1.0       ┆ 1.0       ┆ 0.0       ┆ 6m 20s    │\n",
       "│          ┆ 1         ┆ 1         ┆           ┆   ┆           ┆           ┆           ┆           │\n",
       "│          ┆ 00:35:12  ┆ 00:41:32  ┆           ┆   ┆           ┆           ┆           ┆           │\n",
       "│ 1        ┆ 2023-01-0 ┆ 2023-01-0 ┆ N         ┆ … ┆ 1.0       ┆ 1.0       ┆ 0.0       ┆ 5m 49s    │\n",
       "│          ┆ 1         ┆ 1         ┆           ┆   ┆           ┆           ┆           ┆           │\n",
       "│          ┆ 00:13:14  ┆ 00:19:03  ┆           ┆   ┆           ┆           ┆           ┆           │\n",
       "│ 1        ┆ 2023-01-0 ┆ 2023-01-0 ┆ N         ┆ … ┆ 1.0       ┆ 1.0       ┆ 0.0       ┆ 5m 58s    │\n",
       "│          ┆ 1         ┆ 1         ┆           ┆   ┆           ┆           ┆           ┆           │\n",
       "│          ┆ 00:33:04  ┆ 00:39:02  ┆           ┆   ┆           ┆           ┆           ┆           │\n",
       "└──────────┴───────────┴───────────┴───────────┴───┴───────────┴───────────┴───────────┴───────────┘"
      ]
     },
     "execution_count": 7,
     "metadata": {},
     "output_type": "execute_result"
    }
   ],
   "source": [
    "jan_2023.head()"
   ]
  },
  {
   "cell_type": "code",
   "execution_count": 8,
   "id": "74717d9f",
   "metadata": {},
   "outputs": [],
   "source": [
    "import datetime"
   ]
  },
  {
   "cell_type": "code",
   "execution_count": 9,
   "id": "d71c13a0",
   "metadata": {},
   "outputs": [
    {
     "data": {
      "text/html": [
       "<div><style>\n",
       ".dataframe > thead > tr,\n",
       ".dataframe > tbody > tr {\n",
       "  text-align: right;\n",
       "  white-space: pre-wrap;\n",
       "}\n",
       "</style>\n",
       "<small>shape: (65_920, 21)</small><table border=\"1\" class=\"dataframe\"><thead><tr><th>VendorID</th><th>lpep_pickup_datetime</th><th>lpep_dropoff_datetime</th><th>store_and_fwd_flag</th><th>RatecodeID</th><th>PULocationID</th><th>DOLocationID</th><th>passenger_count</th><th>trip_distance</th><th>fare_amount</th><th>extra</th><th>mta_tax</th><th>tip_amount</th><th>tolls_amount</th><th>ehail_fee</th><th>improvement_surcharge</th><th>total_amount</th><th>payment_type</th><th>trip_type</th><th>congestion_surcharge</th><th>duration</th></tr><tr><td>i64</td><td>datetime[ns]</td><td>datetime[ns]</td><td>str</td><td>f64</td><td>i64</td><td>i64</td><td>f64</td><td>f64</td><td>f64</td><td>f64</td><td>f64</td><td>f64</td><td>f64</td><td>null</td><td>f64</td><td>f64</td><td>f64</td><td>f64</td><td>f64</td><td>duration[ns]</td></tr></thead><tbody><tr><td>2</td><td>2023-01-01 00:26:10</td><td>2023-01-01 00:37:11</td><td>&quot;N&quot;</td><td>1.0</td><td>166</td><td>143</td><td>1.0</td><td>2.58</td><td>14.9</td><td>1.0</td><td>0.5</td><td>4.03</td><td>0.0</td><td>null</td><td>1.0</td><td>24.18</td><td>1.0</td><td>1.0</td><td>2.75</td><td>11m 1s</td></tr><tr><td>2</td><td>2023-01-01 00:51:03</td><td>2023-01-01 00:57:49</td><td>&quot;N&quot;</td><td>1.0</td><td>24</td><td>43</td><td>1.0</td><td>1.81</td><td>10.7</td><td>1.0</td><td>0.5</td><td>2.64</td><td>0.0</td><td>null</td><td>1.0</td><td>15.84</td><td>1.0</td><td>1.0</td><td>0.0</td><td>6m 46s</td></tr><tr><td>2</td><td>2023-01-01 00:35:12</td><td>2023-01-01 00:41:32</td><td>&quot;N&quot;</td><td>1.0</td><td>223</td><td>179</td><td>1.0</td><td>0.0</td><td>7.2</td><td>1.0</td><td>0.5</td><td>1.94</td><td>0.0</td><td>null</td><td>1.0</td><td>11.64</td><td>1.0</td><td>1.0</td><td>0.0</td><td>6m 20s</td></tr><tr><td>1</td><td>2023-01-01 00:13:14</td><td>2023-01-01 00:19:03</td><td>&quot;N&quot;</td><td>1.0</td><td>41</td><td>238</td><td>1.0</td><td>1.3</td><td>6.5</td><td>0.5</td><td>1.5</td><td>1.7</td><td>0.0</td><td>null</td><td>1.0</td><td>10.2</td><td>1.0</td><td>1.0</td><td>0.0</td><td>5m 49s</td></tr><tr><td>1</td><td>2023-01-01 00:33:04</td><td>2023-01-01 00:39:02</td><td>&quot;N&quot;</td><td>1.0</td><td>41</td><td>74</td><td>1.0</td><td>1.1</td><td>6.0</td><td>0.5</td><td>1.5</td><td>0.0</td><td>0.0</td><td>null</td><td>1.0</td><td>8.0</td><td>1.0</td><td>1.0</td><td>0.0</td><td>5m 58s</td></tr><tr><td>&hellip;</td><td>&hellip;</td><td>&hellip;</td><td>&hellip;</td><td>&hellip;</td><td>&hellip;</td><td>&hellip;</td><td>&hellip;</td><td>&hellip;</td><td>&hellip;</td><td>&hellip;</td><td>&hellip;</td><td>&hellip;</td><td>&hellip;</td><td>&hellip;</td><td>&hellip;</td><td>&hellip;</td><td>&hellip;</td><td>&hellip;</td><td>&hellip;</td><td>&hellip;</td></tr><tr><td>2</td><td>2023-01-31 22:29:00</td><td>2023-01-31 22:42:00</td><td>null</td><td>null</td><td>49</td><td>62</td><td>null</td><td>4070.82</td><td>15.7</td><td>0.0</td><td>0.0</td><td>0.0</td><td>0.0</td><td>null</td><td>1.0</td><td>16.7</td><td>null</td><td>null</td><td>null</td><td>13m</td></tr><tr><td>2</td><td>2023-01-31 22:40:00</td><td>2023-01-31 22:48:00</td><td>null</td><td>null</td><td>10</td><td>205</td><td>null</td><td>2.14</td><td>4.41</td><td>0.0</td><td>0.0</td><td>0.0</td><td>0.0</td><td>null</td><td>1.0</td><td>5.41</td><td>null</td><td>null</td><td>null</td><td>8m</td></tr><tr><td>2</td><td>2023-01-31 23:46:00</td><td>2023-02-01 00:02:00</td><td>null</td><td>null</td><td>66</td><td>37</td><td>null</td><td>3.44</td><td>16.53</td><td>0.0</td><td>0.0</td><td>3.51</td><td>0.0</td><td>null</td><td>1.0</td><td>21.04</td><td>null</td><td>null</td><td>null</td><td>16m</td></tr><tr><td>2</td><td>2023-01-31 23:01:00</td><td>2023-01-31 23:19:00</td><td>null</td><td>null</td><td>225</td><td>189</td><td>null</td><td>3.03</td><td>14.98</td><td>0.0</td><td>0.0</td><td>3.2</td><td>0.0</td><td>null</td><td>1.0</td><td>19.18</td><td>null</td><td>null</td><td>null</td><td>18m</td></tr><tr><td>2</td><td>2023-01-31 23:51:00</td><td>2023-02-01 00:07:00</td><td>null</td><td>null</td><td>256</td><td>140</td><td>null</td><td>5.82</td><td>23.65</td><td>0.0</td><td>0.0</td><td>2.0</td><td>0.0</td><td>null</td><td>1.0</td><td>29.4</td><td>null</td><td>null</td><td>null</td><td>16m</td></tr></tbody></table></div>"
      ],
      "text/plain": [
       "shape: (65_920, 21)\n",
       "┌──────────┬───────────┬───────────┬───────────┬───┬───────────┬───────────┬───────────┬───────────┐\n",
       "│ VendorID ┆ lpep_pick ┆ lpep_drop ┆ store_and ┆ … ┆ payment_t ┆ trip_type ┆ congestio ┆ duration  │\n",
       "│ ---      ┆ up_dateti ┆ off_datet ┆ _fwd_flag ┆   ┆ ype       ┆ ---       ┆ n_surchar ┆ ---       │\n",
       "│ i64      ┆ me        ┆ ime       ┆ ---       ┆   ┆ ---       ┆ f64       ┆ ge        ┆ duration[ │\n",
       "│          ┆ ---       ┆ ---       ┆ str       ┆   ┆ f64       ┆           ┆ ---       ┆ ns]       │\n",
       "│          ┆ datetime[ ┆ datetime[ ┆           ┆   ┆           ┆           ┆ f64       ┆           │\n",
       "│          ┆ ns]       ┆ ns]       ┆           ┆   ┆           ┆           ┆           ┆           │\n",
       "╞══════════╪═══════════╪═══════════╪═══════════╪═══╪═══════════╪═══════════╪═══════════╪═══════════╡\n",
       "│ 2        ┆ 2023-01-0 ┆ 2023-01-0 ┆ N         ┆ … ┆ 1.0       ┆ 1.0       ┆ 2.75      ┆ 11m 1s    │\n",
       "│          ┆ 1         ┆ 1         ┆           ┆   ┆           ┆           ┆           ┆           │\n",
       "│          ┆ 00:26:10  ┆ 00:37:11  ┆           ┆   ┆           ┆           ┆           ┆           │\n",
       "│ 2        ┆ 2023-01-0 ┆ 2023-01-0 ┆ N         ┆ … ┆ 1.0       ┆ 1.0       ┆ 0.0       ┆ 6m 46s    │\n",
       "│          ┆ 1         ┆ 1         ┆           ┆   ┆           ┆           ┆           ┆           │\n",
       "│          ┆ 00:51:03  ┆ 00:57:49  ┆           ┆   ┆           ┆           ┆           ┆           │\n",
       "│ 2        ┆ 2023-01-0 ┆ 2023-01-0 ┆ N         ┆ … ┆ 1.0       ┆ 1.0       ┆ 0.0       ┆ 6m 20s    │\n",
       "│          ┆ 1         ┆ 1         ┆           ┆   ┆           ┆           ┆           ┆           │\n",
       "│          ┆ 00:35:12  ┆ 00:41:32  ┆           ┆   ┆           ┆           ┆           ┆           │\n",
       "│ 1        ┆ 2023-01-0 ┆ 2023-01-0 ┆ N         ┆ … ┆ 1.0       ┆ 1.0       ┆ 0.0       ┆ 5m 49s    │\n",
       "│          ┆ 1         ┆ 1         ┆           ┆   ┆           ┆           ┆           ┆           │\n",
       "│          ┆ 00:13:14  ┆ 00:19:03  ┆           ┆   ┆           ┆           ┆           ┆           │\n",
       "│ 1        ┆ 2023-01-0 ┆ 2023-01-0 ┆ N         ┆ … ┆ 1.0       ┆ 1.0       ┆ 0.0       ┆ 5m 58s    │\n",
       "│          ┆ 1         ┆ 1         ┆           ┆   ┆           ┆           ┆           ┆           │\n",
       "│          ┆ 00:33:04  ┆ 00:39:02  ┆           ┆   ┆           ┆           ┆           ┆           │\n",
       "│ …        ┆ …         ┆ …         ┆ …         ┆ … ┆ …         ┆ …         ┆ …         ┆ …         │\n",
       "│ 2        ┆ 2023-01-3 ┆ 2023-01-3 ┆ null      ┆ … ┆ null      ┆ null      ┆ null      ┆ 13m       │\n",
       "│          ┆ 1         ┆ 1         ┆           ┆   ┆           ┆           ┆           ┆           │\n",
       "│          ┆ 22:29:00  ┆ 22:42:00  ┆           ┆   ┆           ┆           ┆           ┆           │\n",
       "│ 2        ┆ 2023-01-3 ┆ 2023-01-3 ┆ null      ┆ … ┆ null      ┆ null      ┆ null      ┆ 8m        │\n",
       "│          ┆ 1         ┆ 1         ┆           ┆   ┆           ┆           ┆           ┆           │\n",
       "│          ┆ 22:40:00  ┆ 22:48:00  ┆           ┆   ┆           ┆           ┆           ┆           │\n",
       "│ 2        ┆ 2023-01-3 ┆ 2023-02-0 ┆ null      ┆ … ┆ null      ┆ null      ┆ null      ┆ 16m       │\n",
       "│          ┆ 1         ┆ 1         ┆           ┆   ┆           ┆           ┆           ┆           │\n",
       "│          ┆ 23:46:00  ┆ 00:02:00  ┆           ┆   ┆           ┆           ┆           ┆           │\n",
       "│ 2        ┆ 2023-01-3 ┆ 2023-01-3 ┆ null      ┆ … ┆ null      ┆ null      ┆ null      ┆ 18m       │\n",
       "│          ┆ 1         ┆ 1         ┆           ┆   ┆           ┆           ┆           ┆           │\n",
       "│          ┆ 23:01:00  ┆ 23:19:00  ┆           ┆   ┆           ┆           ┆           ┆           │\n",
       "│ 2        ┆ 2023-01-3 ┆ 2023-02-0 ┆ null      ┆ … ┆ null      ┆ null      ┆ null      ┆ 16m       │\n",
       "│          ┆ 1         ┆ 1         ┆           ┆   ┆           ┆           ┆           ┆           │\n",
       "│          ┆ 23:51:00  ┆ 00:07:00  ┆           ┆   ┆           ┆           ┆           ┆           │\n",
       "└──────────┴───────────┴───────────┴───────────┴───┴───────────┴───────────┴───────────┴───────────┘"
      ]
     },
     "execution_count": 9,
     "metadata": {},
     "output_type": "execute_result"
    }
   ],
   "source": [
    "jan_2023.filter((pl.col('duration')>pl.duration(minutes=1))&(pl.col('duration')<pl.duration(minutes=60)))"
   ]
  },
  {
   "cell_type": "code",
   "execution_count": 10,
   "id": "09cce681",
   "metadata": {},
   "outputs": [
    {
     "data": {
      "text/plain": [
       "(68211, 21)"
      ]
     },
     "execution_count": 10,
     "metadata": {},
     "output_type": "execute_result"
    }
   ],
   "source": [
    "jan_2023.shape"
   ]
  },
  {
   "cell_type": "code",
   "execution_count": 11,
   "id": "bfaa7846",
   "metadata": {},
   "outputs": [
    {
     "data": {
      "text/plain": [
       "0.96641304188474"
      ]
     },
     "execution_count": 11,
     "metadata": {},
     "output_type": "execute_result"
    }
   ],
   "source": [
    "65920/68211"
   ]
  },
  {
   "cell_type": "code",
   "execution_count": 12,
   "id": "71931560",
   "metadata": {},
   "outputs": [],
   "source": [
    "filtered_jan_2023 = jan_2023.filter((pl.col('duration')>pl.duration(minutes=1))&(pl.col('duration')<pl.duration(minutes=60)))"
   ]
  },
  {
   "cell_type": "code",
   "execution_count": 13,
   "id": "5853a4c6",
   "metadata": {},
   "outputs": [],
   "source": [
    "categorical = ['PULocationID','DOLocationID']\n",
    "numerical = ['trip_distance']\n"
   ]
  },
  {
   "cell_type": "code",
   "execution_count": 14,
   "id": "0bd094ab",
   "metadata": {},
   "outputs": [],
   "source": [
    "filtered_jan_2023[categorical] = filtered_jan_2023[categorical].with_columns(pl.col('PULocationID').cast(str),pl.col('DOLocationID').cast(str))"
   ]
  },
  {
   "cell_type": "code",
   "execution_count": 5,
   "id": "0ec111a7",
   "metadata": {},
   "outputs": [],
   "source": [
    " def read_file_to_dataframe(filename):\n",
    "    \n",
    "    jan_2023 = jan_2023.with_columns(\n",
    "    (pl.col('lpep_dropoff_datetime')-pl.col('lpep_pickup_datetime')).alias('duration'))\n",
    "    jan_2023.filter((pl.col('duration')>pl.duration(minutes=1))&(pl.col('duration')<pl.duration(minutes=60)))\n",
    "    categorical = ['PULocationID','DOLocationID']\n",
    "    numerical = ['trip_distance']\n",
    "    filtered_jan_2023[categorical] = filtered_jan_2023[categorical].with_columns(pl.col('PULocationID').cast(str),pl.col('DOLocationID').cast(str))"
   ]
  },
  {
   "cell_type": "code",
   "execution_count": 15,
   "id": "57248fb0",
   "metadata": {},
   "outputs": [],
   "source": [
    "train_dicts = filtered_jan_2023[categorical + numerical].to_dicts()"
   ]
  },
  {
   "cell_type": "code",
   "execution_count": 16,
   "id": "45faaf15",
   "metadata": {},
   "outputs": [],
   "source": [
    "dv = DictVectorizer()"
   ]
  },
  {
   "cell_type": "code",
   "execution_count": 17,
   "id": "a1e6c40b",
   "metadata": {},
   "outputs": [],
   "source": [
    "X_train = dv.fit_transform(train_dicts)"
   ]
  },
  {
   "cell_type": "code",
   "execution_count": 44,
   "id": "881f20ef",
   "metadata": {},
   "outputs": [
    {
     "data": {
      "text/plain": [
       "['DOLocationID=1',\n",
       " 'DOLocationID=10',\n",
       " 'DOLocationID=100',\n",
       " 'DOLocationID=101',\n",
       " 'DOLocationID=102',\n",
       " 'DOLocationID=106',\n",
       " 'DOLocationID=107',\n",
       " 'DOLocationID=108',\n",
       " 'DOLocationID=11',\n",
       " 'DOLocationID=111',\n",
       " 'DOLocationID=112',\n",
       " 'DOLocationID=113',\n",
       " 'DOLocationID=114',\n",
       " 'DOLocationID=115',\n",
       " 'DOLocationID=116',\n",
       " 'DOLocationID=117',\n",
       " 'DOLocationID=119',\n",
       " 'DOLocationID=12',\n",
       " 'DOLocationID=120',\n",
       " 'DOLocationID=121',\n",
       " 'DOLocationID=122',\n",
       " 'DOLocationID=123',\n",
       " 'DOLocationID=124',\n",
       " 'DOLocationID=125',\n",
       " 'DOLocationID=126',\n",
       " 'DOLocationID=127',\n",
       " 'DOLocationID=128',\n",
       " 'DOLocationID=129',\n",
       " 'DOLocationID=13',\n",
       " 'DOLocationID=130',\n",
       " 'DOLocationID=131',\n",
       " 'DOLocationID=132',\n",
       " 'DOLocationID=133',\n",
       " 'DOLocationID=134',\n",
       " 'DOLocationID=135',\n",
       " 'DOLocationID=136',\n",
       " 'DOLocationID=137',\n",
       " 'DOLocationID=138',\n",
       " 'DOLocationID=139',\n",
       " 'DOLocationID=14',\n",
       " 'DOLocationID=140',\n",
       " 'DOLocationID=141',\n",
       " 'DOLocationID=142',\n",
       " 'DOLocationID=143',\n",
       " 'DOLocationID=144',\n",
       " 'DOLocationID=145',\n",
       " 'DOLocationID=146',\n",
       " 'DOLocationID=147',\n",
       " 'DOLocationID=148',\n",
       " 'DOLocationID=149',\n",
       " 'DOLocationID=15',\n",
       " 'DOLocationID=150',\n",
       " 'DOLocationID=151',\n",
       " 'DOLocationID=152',\n",
       " 'DOLocationID=153',\n",
       " 'DOLocationID=154',\n",
       " 'DOLocationID=155',\n",
       " 'DOLocationID=156',\n",
       " 'DOLocationID=157',\n",
       " 'DOLocationID=158',\n",
       " 'DOLocationID=159',\n",
       " 'DOLocationID=16',\n",
       " 'DOLocationID=160',\n",
       " 'DOLocationID=161',\n",
       " 'DOLocationID=162',\n",
       " 'DOLocationID=163',\n",
       " 'DOLocationID=164',\n",
       " 'DOLocationID=165',\n",
       " 'DOLocationID=166',\n",
       " 'DOLocationID=167',\n",
       " 'DOLocationID=168',\n",
       " 'DOLocationID=169',\n",
       " 'DOLocationID=17',\n",
       " 'DOLocationID=170',\n",
       " 'DOLocationID=171',\n",
       " 'DOLocationID=172',\n",
       " 'DOLocationID=173',\n",
       " 'DOLocationID=174',\n",
       " 'DOLocationID=175',\n",
       " 'DOLocationID=177',\n",
       " 'DOLocationID=178',\n",
       " 'DOLocationID=179',\n",
       " 'DOLocationID=18',\n",
       " 'DOLocationID=180',\n",
       " 'DOLocationID=181',\n",
       " 'DOLocationID=182',\n",
       " 'DOLocationID=183',\n",
       " 'DOLocationID=184',\n",
       " 'DOLocationID=185',\n",
       " 'DOLocationID=186',\n",
       " 'DOLocationID=187',\n",
       " 'DOLocationID=188',\n",
       " 'DOLocationID=189',\n",
       " 'DOLocationID=19',\n",
       " 'DOLocationID=190',\n",
       " 'DOLocationID=191',\n",
       " 'DOLocationID=192',\n",
       " 'DOLocationID=193',\n",
       " 'DOLocationID=194',\n",
       " 'DOLocationID=195',\n",
       " 'DOLocationID=196',\n",
       " 'DOLocationID=197',\n",
       " 'DOLocationID=198',\n",
       " 'DOLocationID=20',\n",
       " 'DOLocationID=200',\n",
       " 'DOLocationID=201',\n",
       " 'DOLocationID=202',\n",
       " 'DOLocationID=203',\n",
       " 'DOLocationID=205',\n",
       " 'DOLocationID=206',\n",
       " 'DOLocationID=207',\n",
       " 'DOLocationID=208',\n",
       " 'DOLocationID=209',\n",
       " 'DOLocationID=21',\n",
       " 'DOLocationID=210',\n",
       " 'DOLocationID=211',\n",
       " 'DOLocationID=212',\n",
       " 'DOLocationID=213',\n",
       " 'DOLocationID=214',\n",
       " 'DOLocationID=215',\n",
       " 'DOLocationID=216',\n",
       " 'DOLocationID=217',\n",
       " 'DOLocationID=218',\n",
       " 'DOLocationID=219',\n",
       " 'DOLocationID=22',\n",
       " 'DOLocationID=220',\n",
       " 'DOLocationID=221',\n",
       " 'DOLocationID=222',\n",
       " 'DOLocationID=223',\n",
       " 'DOLocationID=224',\n",
       " 'DOLocationID=225',\n",
       " 'DOLocationID=226',\n",
       " 'DOLocationID=227',\n",
       " 'DOLocationID=228',\n",
       " 'DOLocationID=229',\n",
       " 'DOLocationID=23',\n",
       " 'DOLocationID=230',\n",
       " 'DOLocationID=231',\n",
       " 'DOLocationID=232',\n",
       " 'DOLocationID=233',\n",
       " 'DOLocationID=234',\n",
       " 'DOLocationID=235',\n",
       " 'DOLocationID=236',\n",
       " 'DOLocationID=237',\n",
       " 'DOLocationID=238',\n",
       " 'DOLocationID=239',\n",
       " 'DOLocationID=24',\n",
       " 'DOLocationID=240',\n",
       " 'DOLocationID=241',\n",
       " 'DOLocationID=242',\n",
       " 'DOLocationID=243',\n",
       " 'DOLocationID=244',\n",
       " 'DOLocationID=246',\n",
       " 'DOLocationID=247',\n",
       " 'DOLocationID=248',\n",
       " 'DOLocationID=249',\n",
       " 'DOLocationID=25',\n",
       " 'DOLocationID=250',\n",
       " 'DOLocationID=251',\n",
       " 'DOLocationID=252',\n",
       " 'DOLocationID=253',\n",
       " 'DOLocationID=254',\n",
       " 'DOLocationID=255',\n",
       " 'DOLocationID=256',\n",
       " 'DOLocationID=257',\n",
       " 'DOLocationID=258',\n",
       " 'DOLocationID=259',\n",
       " 'DOLocationID=26',\n",
       " 'DOLocationID=260',\n",
       " 'DOLocationID=261',\n",
       " 'DOLocationID=262',\n",
       " 'DOLocationID=263',\n",
       " 'DOLocationID=264',\n",
       " 'DOLocationID=265',\n",
       " 'DOLocationID=28',\n",
       " 'DOLocationID=29',\n",
       " 'DOLocationID=3',\n",
       " 'DOLocationID=31',\n",
       " 'DOLocationID=32',\n",
       " 'DOLocationID=33',\n",
       " 'DOLocationID=34',\n",
       " 'DOLocationID=35',\n",
       " 'DOLocationID=36',\n",
       " 'DOLocationID=37',\n",
       " 'DOLocationID=38',\n",
       " 'DOLocationID=39',\n",
       " 'DOLocationID=4',\n",
       " 'DOLocationID=40',\n",
       " 'DOLocationID=41',\n",
       " 'DOLocationID=42',\n",
       " 'DOLocationID=43',\n",
       " 'DOLocationID=44',\n",
       " 'DOLocationID=45',\n",
       " 'DOLocationID=46',\n",
       " 'DOLocationID=47',\n",
       " 'DOLocationID=48',\n",
       " 'DOLocationID=49',\n",
       " 'DOLocationID=50',\n",
       " 'DOLocationID=51',\n",
       " 'DOLocationID=52',\n",
       " 'DOLocationID=53',\n",
       " 'DOLocationID=54',\n",
       " 'DOLocationID=55',\n",
       " 'DOLocationID=56',\n",
       " 'DOLocationID=57',\n",
       " 'DOLocationID=58',\n",
       " 'DOLocationID=59',\n",
       " 'DOLocationID=60',\n",
       " 'DOLocationID=61',\n",
       " 'DOLocationID=62',\n",
       " 'DOLocationID=63',\n",
       " 'DOLocationID=64',\n",
       " 'DOLocationID=65',\n",
       " 'DOLocationID=66',\n",
       " 'DOLocationID=67',\n",
       " 'DOLocationID=68',\n",
       " 'DOLocationID=69',\n",
       " 'DOLocationID=7',\n",
       " 'DOLocationID=70',\n",
       " 'DOLocationID=71',\n",
       " 'DOLocationID=72',\n",
       " 'DOLocationID=73',\n",
       " 'DOLocationID=74',\n",
       " 'DOLocationID=75',\n",
       " 'DOLocationID=76',\n",
       " 'DOLocationID=77',\n",
       " 'DOLocationID=78',\n",
       " 'DOLocationID=79',\n",
       " 'DOLocationID=8',\n",
       " 'DOLocationID=80',\n",
       " 'DOLocationID=81',\n",
       " 'DOLocationID=82',\n",
       " 'DOLocationID=83',\n",
       " 'DOLocationID=85',\n",
       " 'DOLocationID=86',\n",
       " 'DOLocationID=87',\n",
       " 'DOLocationID=88',\n",
       " 'DOLocationID=89',\n",
       " 'DOLocationID=9',\n",
       " 'DOLocationID=90',\n",
       " 'DOLocationID=91',\n",
       " 'DOLocationID=92',\n",
       " 'DOLocationID=93',\n",
       " 'DOLocationID=94',\n",
       " 'DOLocationID=95',\n",
       " 'DOLocationID=96',\n",
       " 'DOLocationID=97',\n",
       " 'DOLocationID=98',\n",
       " 'PULocationID=10',\n",
       " 'PULocationID=100',\n",
       " 'PULocationID=102',\n",
       " 'PULocationID=106',\n",
       " 'PULocationID=108',\n",
       " 'PULocationID=11',\n",
       " 'PULocationID=112',\n",
       " 'PULocationID=113',\n",
       " 'PULocationID=114',\n",
       " 'PULocationID=116',\n",
       " 'PULocationID=117',\n",
       " 'PULocationID=119',\n",
       " 'PULocationID=120',\n",
       " 'PULocationID=121',\n",
       " 'PULocationID=122',\n",
       " 'PULocationID=123',\n",
       " 'PULocationID=124',\n",
       " 'PULocationID=126',\n",
       " 'PULocationID=127',\n",
       " 'PULocationID=128',\n",
       " 'PULocationID=129',\n",
       " 'PULocationID=130',\n",
       " 'PULocationID=131',\n",
       " 'PULocationID=132',\n",
       " 'PULocationID=133',\n",
       " 'PULocationID=134',\n",
       " 'PULocationID=135',\n",
       " 'PULocationID=136',\n",
       " 'PULocationID=137',\n",
       " 'PULocationID=138',\n",
       " 'PULocationID=139',\n",
       " 'PULocationID=14',\n",
       " 'PULocationID=140',\n",
       " 'PULocationID=141',\n",
       " 'PULocationID=145',\n",
       " 'PULocationID=146',\n",
       " 'PULocationID=147',\n",
       " 'PULocationID=149',\n",
       " 'PULocationID=150',\n",
       " 'PULocationID=151',\n",
       " 'PULocationID=152',\n",
       " 'PULocationID=153',\n",
       " 'PULocationID=154',\n",
       " 'PULocationID=155',\n",
       " 'PULocationID=157',\n",
       " 'PULocationID=158',\n",
       " 'PULocationID=159',\n",
       " 'PULocationID=16',\n",
       " 'PULocationID=160',\n",
       " 'PULocationID=165',\n",
       " 'PULocationID=166',\n",
       " 'PULocationID=167',\n",
       " 'PULocationID=168',\n",
       " 'PULocationID=169',\n",
       " 'PULocationID=17',\n",
       " 'PULocationID=170',\n",
       " 'PULocationID=171',\n",
       " 'PULocationID=173',\n",
       " 'PULocationID=174',\n",
       " 'PULocationID=175',\n",
       " 'PULocationID=177',\n",
       " 'PULocationID=178',\n",
       " 'PULocationID=179',\n",
       " 'PULocationID=18',\n",
       " 'PULocationID=180',\n",
       " 'PULocationID=181',\n",
       " 'PULocationID=182',\n",
       " 'PULocationID=183',\n",
       " 'PULocationID=185',\n",
       " 'PULocationID=186',\n",
       " 'PULocationID=188',\n",
       " 'PULocationID=189',\n",
       " 'PULocationID=19',\n",
       " 'PULocationID=190',\n",
       " 'PULocationID=191',\n",
       " 'PULocationID=192',\n",
       " 'PULocationID=193',\n",
       " 'PULocationID=194',\n",
       " 'PULocationID=195',\n",
       " 'PULocationID=196',\n",
       " 'PULocationID=197',\n",
       " 'PULocationID=198',\n",
       " 'PULocationID=20',\n",
       " 'PULocationID=200',\n",
       " 'PULocationID=201',\n",
       " 'PULocationID=202',\n",
       " 'PULocationID=203',\n",
       " 'PULocationID=205',\n",
       " 'PULocationID=206',\n",
       " 'PULocationID=207',\n",
       " 'PULocationID=208',\n",
       " 'PULocationID=209',\n",
       " 'PULocationID=21',\n",
       " 'PULocationID=210',\n",
       " 'PULocationID=212',\n",
       " 'PULocationID=213',\n",
       " 'PULocationID=214',\n",
       " 'PULocationID=215',\n",
       " 'PULocationID=216',\n",
       " 'PULocationID=217',\n",
       " 'PULocationID=218',\n",
       " 'PULocationID=219',\n",
       " 'PULocationID=22',\n",
       " 'PULocationID=220',\n",
       " 'PULocationID=221',\n",
       " 'PULocationID=222',\n",
       " 'PULocationID=223',\n",
       " 'PULocationID=225',\n",
       " 'PULocationID=226',\n",
       " 'PULocationID=227',\n",
       " 'PULocationID=228',\n",
       " 'PULocationID=229',\n",
       " 'PULocationID=23',\n",
       " 'PULocationID=230',\n",
       " 'PULocationID=231',\n",
       " 'PULocationID=232',\n",
       " 'PULocationID=233',\n",
       " 'PULocationID=235',\n",
       " 'PULocationID=236',\n",
       " 'PULocationID=238',\n",
       " 'PULocationID=239',\n",
       " 'PULocationID=24',\n",
       " 'PULocationID=240',\n",
       " 'PULocationID=241',\n",
       " 'PULocationID=242',\n",
       " 'PULocationID=243',\n",
       " 'PULocationID=244',\n",
       " 'PULocationID=245',\n",
       " 'PULocationID=246',\n",
       " 'PULocationID=247',\n",
       " 'PULocationID=248',\n",
       " 'PULocationID=25',\n",
       " 'PULocationID=250',\n",
       " 'PULocationID=251',\n",
       " 'PULocationID=252',\n",
       " 'PULocationID=253',\n",
       " 'PULocationID=254',\n",
       " 'PULocationID=255',\n",
       " 'PULocationID=256',\n",
       " 'PULocationID=257',\n",
       " 'PULocationID=258',\n",
       " 'PULocationID=259',\n",
       " 'PULocationID=26',\n",
       " 'PULocationID=260',\n",
       " 'PULocationID=261',\n",
       " 'PULocationID=262',\n",
       " 'PULocationID=263',\n",
       " 'PULocationID=264',\n",
       " 'PULocationID=265',\n",
       " 'PULocationID=27',\n",
       " 'PULocationID=28',\n",
       " 'PULocationID=29',\n",
       " 'PULocationID=3',\n",
       " 'PULocationID=31',\n",
       " 'PULocationID=32',\n",
       " 'PULocationID=33',\n",
       " 'PULocationID=34',\n",
       " 'PULocationID=35',\n",
       " 'PULocationID=36',\n",
       " 'PULocationID=37',\n",
       " 'PULocationID=38',\n",
       " 'PULocationID=39',\n",
       " 'PULocationID=40',\n",
       " 'PULocationID=41',\n",
       " 'PULocationID=42',\n",
       " 'PULocationID=43',\n",
       " 'PULocationID=45',\n",
       " 'PULocationID=46',\n",
       " 'PULocationID=47',\n",
       " 'PULocationID=48',\n",
       " 'PULocationID=49',\n",
       " 'PULocationID=50',\n",
       " 'PULocationID=51',\n",
       " 'PULocationID=52',\n",
       " 'PULocationID=53',\n",
       " 'PULocationID=54',\n",
       " 'PULocationID=55',\n",
       " 'PULocationID=56',\n",
       " 'PULocationID=57',\n",
       " 'PULocationID=58',\n",
       " 'PULocationID=59',\n",
       " 'PULocationID=60',\n",
       " 'PULocationID=61',\n",
       " 'PULocationID=62',\n",
       " 'PULocationID=63',\n",
       " 'PULocationID=64',\n",
       " 'PULocationID=65',\n",
       " 'PULocationID=66',\n",
       " 'PULocationID=67',\n",
       " 'PULocationID=68',\n",
       " 'PULocationID=69',\n",
       " 'PULocationID=7',\n",
       " 'PULocationID=70',\n",
       " 'PULocationID=71',\n",
       " 'PULocationID=72',\n",
       " 'PULocationID=73',\n",
       " 'PULocationID=74',\n",
       " 'PULocationID=75',\n",
       " 'PULocationID=76',\n",
       " 'PULocationID=77',\n",
       " 'PULocationID=78',\n",
       " 'PULocationID=80',\n",
       " 'PULocationID=81',\n",
       " 'PULocationID=82',\n",
       " 'PULocationID=83',\n",
       " 'PULocationID=85',\n",
       " 'PULocationID=86',\n",
       " 'PULocationID=87',\n",
       " 'PULocationID=88',\n",
       " 'PULocationID=89',\n",
       " 'PULocationID=9',\n",
       " 'PULocationID=90',\n",
       " 'PULocationID=91',\n",
       " 'PULocationID=92',\n",
       " 'PULocationID=93',\n",
       " 'PULocationID=94',\n",
       " 'PULocationID=95',\n",
       " 'PULocationID=97',\n",
       " 'PULocationID=98',\n",
       " 'trip_distance']"
      ]
     },
     "execution_count": 44,
     "metadata": {},
     "output_type": "execute_result"
    }
   ],
   "source": [
    "dv.feature_names_"
   ]
  },
  {
   "cell_type": "code",
   "execution_count": 67,
   "id": "994f751f",
   "metadata": {},
   "outputs": [],
   "source": [
    "target = 'duration'\n",
    "y_train = filtered_jan_2023[target].to_numpy()\n"
   ]
  },
  {
   "cell_type": "code",
   "execution_count": 39,
   "id": "f3c419a9",
   "metadata": {},
   "outputs": [
    {
     "data": {
      "text/plain": [
       "Duration(time_unit='ns')"
      ]
     },
     "execution_count": 39,
     "metadata": {},
     "output_type": "execute_result"
    }
   ],
   "source": [
    "y_train.dtype"
   ]
  },
  {
   "cell_type": "code",
   "execution_count": 40,
   "id": "e6b39967",
   "metadata": {},
   "outputs": [
    {
     "data": {
      "text/plain": [
       "LinearRegression()"
      ]
     },
     "execution_count": 40,
     "metadata": {},
     "output_type": "execute_result"
    }
   ],
   "source": [
    "lr = LinearRegression()\n",
    "lr.fit(X_train,y_train)"
   ]
  },
  {
   "cell_type": "code",
   "execution_count": 41,
   "id": "6265ae35",
   "metadata": {},
   "outputs": [],
   "source": [
    "y_pred = lr.predict(X_train)"
   ]
  },
  {
   "cell_type": "code",
   "execution_count": 36,
   "id": "34683d52",
   "metadata": {},
   "outputs": [],
   "source": [
    "y_pred2=y_pred.astype(np.float64) / 1_000_000_000"
   ]
  },
  {
   "cell_type": "code",
   "execution_count": 52,
   "id": "370504de",
   "metadata": {},
   "outputs": [
    {
     "data": {
      "text/plain": [
       "array([1.09323395e+12, 6.40914166e+11, 6.23852056e+11, ...,\n",
       "       1.33716528e+12, 1.01704423e+12, 1.19305246e+12])"
      ]
     },
     "execution_count": 52,
     "metadata": {},
     "output_type": "execute_result"
    }
   ],
   "source": [
    "y_pred"
   ]
  },
  {
   "cell_type": "code",
   "execution_count": 54,
   "id": "b5d2ac48",
   "metadata": {},
   "outputs": [
    {
     "data": {
      "text/plain": [
       "Duration(time_unit='ns')"
      ]
     },
     "execution_count": 54,
     "metadata": {},
     "output_type": "execute_result"
    }
   ],
   "source": [
    "y_train.dtype"
   ]
  },
  {
   "cell_type": "code",
   "execution_count": 68,
   "id": "ae71d532",
   "metadata": {},
   "outputs": [],
   "source": [
    "y_train = (y_train.cast(pl.Int64)).to_numpy()"
   ]
  },
  {
   "cell_type": "code",
   "execution_count": 70,
   "id": "aa9d37d8",
   "metadata": {},
   "outputs": [
    {
     "data": {
      "text/plain": [
       "421.79746561495335"
      ]
     },
     "execution_count": 70,
     "metadata": {},
     "output_type": "execute_result"
    }
   ],
   "source": [
    "mean_squared_error(y_train ,y_pred, squared=False)/1_000_000_000"
   ]
  },
  {
   "cell_type": "code",
   "execution_count": 71,
   "id": "8a7c16f7",
   "metadata": {},
   "outputs": [
    {
     "data": {
      "text/plain": [
       "7.029957760249222"
      ]
     },
     "execution_count": 71,
     "metadata": {},
     "output_type": "execute_result"
    }
   ],
   "source": [
    "421.79746561495335/60"
   ]
  },
  {
   "cell_type": "code",
   "execution_count": 60,
   "id": "f4202b5d",
   "metadata": {},
   "outputs": [],
   "source": [
    "#Think I messed up units"
   ]
  },
  {
   "cell_type": "code",
   "execution_count": 19,
   "id": "e01d41b1",
   "metadata": {},
   "outputs": [],
   "source": [
    "def read_file_to_dataframe(filename):\n",
    "    df = pl.read_parquet(filename)\n",
    "    \n",
    "    df = df.with_columns(\n",
    "    (pl.col('lpep_dropoff_datetime')-pl.col('lpep_pickup_datetime')).alias('duration'))\n",
    "    \n",
    "    df = df.filter((pl.col('duration')>pl.duration(minutes=1))&(pl.col('duration')<pl.duration(minutes=60)))\n",
    "    \n",
    "#     categorical = ['PULocationID','DOLocationID']\n",
    "#     numerical = ['trip_distance']\n",
    "    \n",
    "#     df[categorical] = df[categorical].with_columns(pl.col('PULocationID').cast(str),pl.col('DOLocationID').cast(str))\n",
    "    return df"
   ]
  },
  {
   "cell_type": "code",
   "execution_count": 20,
   "id": "ae28df1b",
   "metadata": {},
   "outputs": [],
   "source": [
    "df_train = read_file_to_dataframe('https://d37ci6vzurychx.cloudfront.net/trip-data/green_tripdata_2023-01.parquet')\n",
    "df_val = read_file_to_dataframe('https://d37ci6vzurychx.cloudfront.net/trip-data/green_tripdata_2023-02.parquet')"
   ]
  },
  {
   "cell_type": "code",
   "execution_count": 18,
   "id": "39356478",
   "metadata": {},
   "outputs": [],
   "source": [
    "df_train\n",
    "categorical = ['PULocationID','DOLocationID']\n",
    "df_train[categorical] = df_train[categorical].with_columns(pl.col('PULocationID').cast(str),pl.col('DOLocationID').cast(str))"
   ]
  },
  {
   "cell_type": "code",
   "execution_count": 22,
   "id": "60467516",
   "metadata": {},
   "outputs": [],
   "source": [
    "categorical = ['PULocationID','DOLocationID']\n",
    "df_val[categorical] = df_val[categorical].with_columns(pl.col('PULocationID').cast(str),pl.col('DOLocationID').cast(str))"
   ]
  },
  {
   "cell_type": "code",
   "execution_count": 30,
   "id": "fd98d1df",
   "metadata": {},
   "outputs": [
    {
     "name": "stdout",
     "output_type": "stream",
     "text": [
      "timedelta64[ns]\n",
      "float64\n"
     ]
    },
    {
     "data": {
      "text/plain": [
       "828.2188608033437"
      ]
     },
     "execution_count": 30,
     "metadata": {},
     "output_type": "execute_result"
    }
   ],
   "source": [
    "categorical = ['PULocationID','DOLocationID']\n",
    "numerical = ['trip_distance']\n",
    "dv = DictVectorizer()\n",
    "train_dicts = df_train[categorical + numerical].to_dicts()\n",
    "X_train = dv.fit_transform(train_dicts)\n",
    "\n",
    "val_dicts = df_val[categorical + numerical].to_dicts()\n",
    "X_val = dv.fit_transform(val_dicts)\n",
    "\n",
    "target = 'duration'\n",
    "y_train = df_train[target].to_numpy()\n",
    "y_val = df_val[target].to_numpy()\n",
    "\n",
    "\n",
    "lr = LinearRegression()\n",
    "lr.fit(X_train,y_train)\n",
    "\n",
    "\n",
    "\n",
    "y_pred = lr.predict(X_train)\n",
    "print(y_train.dtype)\n",
    "print(y_pred.dtype)\n",
    "y_train_seconds = y_train / np.timedelta64(1, 's')\n",
    "\n",
    "\n",
    "mean_squared_error(y_train_seconds ,y_pred, squared=False)/1_000_000_000 #gets me to seconds"
   ]
  },
  {
   "cell_type": "code",
   "execution_count": null,
   "id": "af902676",
   "metadata": {},
   "outputs": [],
   "source": []
  }
 ],
 "metadata": {
  "kernelspec": {
   "display_name": "Python 3 (ipykernel)",
   "language": "python",
   "name": "python3"
  },
  "language_info": {
   "codemirror_mode": {
    "name": "ipython",
    "version": 3
   },
   "file_extension": ".py",
   "mimetype": "text/x-python",
   "name": "python",
   "nbconvert_exporter": "python",
   "pygments_lexer": "ipython3",
   "version": "3.9.12"
  }
 },
 "nbformat": 4,
 "nbformat_minor": 5
}
